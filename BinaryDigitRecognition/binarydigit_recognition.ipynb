{
 "cells": [
  {
   "cell_type": "code",
   "execution_count": null,
   "metadata": {},
   "outputs": [],
   "source": [
    "import numpy as np\n",
    "import tensorflow as tf\n",
    "from tensorflow.python.keras.engine.sequential import Sequential\n",
    "from tensorflow.python.keras.layers import Dense\n",
    "import matplotlib.pyplot as plt\n",
    "from keras.datasets import mnist"
   ]
  },
  {
   "cell_type": "code",
   "execution_count": null,
   "metadata": {},
   "outputs": [],
   "source": [
    "# Load Data from MNIST Dataset\n",
    "(X_train, y_train), (X_test, y_test) = mnist.load_data()"
   ]
  },
  {
   "cell_type": "code",
   "execution_count": null,
   "metadata": {},
   "outputs": [],
   "source": [
    "#Filter out 0s and 1s from the MNIST datasaet\n",
    "train_filter = np.where((y_train == 0 ) | (y_train == 1))\n",
    "test_filter = np.where((y_test == 0) | (y_test == 1))\n",
    "\n",
    "#Assign subarray of 0s and 1s into training sets\n",
    "X_train, y_train = X_train[train_filter], y_train[train_filter]\n",
    "X_test, y_test = X_test[test_filter], y_test[test_filter]\n",
    "\n",
    "#Reshape data into a simpler shape\n",
    "X_train = X_train.reshape(12665, 784)\n",
    "X_test = X_test.reshape(2115, 784)\n",
    "y_train = y_train.reshape(12665, 1)\n",
    "y_test = y_test.reshape(2115, 1)"
   ]
  },
  {
   "cell_type": "code",
   "execution_count": null,
   "metadata": {},
   "outputs": [],
   "source": [
    "# Show shape of Data\n",
    "X_train.shape, y_train.shape, X_test.shape, y_test.shape"
   ]
  },
  {
   "cell_type": "code",
   "execution_count": null,
   "metadata": {},
   "outputs": [],
   "source": [
    "# Show first 100 training examples in a 10*10 subplot\n",
    "fig, axes = plt.subplots(8, 8, figsize=(8, 8))\n",
    "fig.tight_layout(pad=0.1)\n",
    "\n",
    "for i,ax in enumerate(axes.flat):\n",
    "    X_random_reshaped = X_train[i].reshape((28,28))\n",
    "    ax.imshow(X_random_reshaped, cmap='gray')\n",
    "    ax.set_title(y_train[i,0])\n",
    "    ax.set_axis_off()"
   ]
  },
  {
   "cell_type": "code",
   "execution_count": null,
   "metadata": {},
   "outputs": [],
   "source": [
    "# Pre-processing/normalizing of X_train & X_test between (0, 1)\n",
    "X_train = X_train.astype(np.float32)/255\n",
    "X_test = X_test.astype(np.float32)/255"
   ]
  },
  {
   "cell_type": "code",
   "execution_count": null,
   "metadata": {},
   "outputs": [],
   "source": [
    "#sequential model creation using dense layers \n",
    "model = Sequential(\n",
    "    [\n",
    "        tf.keras.layers.Dense(25, activation='relu', name=\"layer1\"),\n",
    "        tf.keras.layers.Dense(15, activation='relu', name=\"layer2\"),\n",
    "        tf.keras.layers.Dense(1, activation='sigmoid', name=\"layer3\"),\n",
    "    ], name = \"recog_model\",\n",
    ")\n"
   ]
  },
  {
   "cell_type": "code",
   "execution_count": null,
   "metadata": {},
   "outputs": [],
   "source": [
    "#Fit model using BinaryCrossentropy loss function\n",
    "model.compile(\n",
    "    loss=tf.keras.losses.BinaryCrossentropy(),\n",
    ")\n",
    "\n",
    "#fit model using taining set and determine epoch\n",
    "model.fit(\n",
    "    X_train,y_train,\n",
    "    epochs=20\n",
    ")"
   ]
  },
  {
   "cell_type": "code",
   "execution_count": null,
   "metadata": {},
   "outputs": [],
   "source": [
    "#Show first 100 testing examples with assigned labels and predicted labels\n",
    "fig, axes = plt.subplots(8,8, figsize=(8,8))\n",
    "fig.tight_layout(pad=0.1,rect=[0, 0.03, 1, 0.92])\n",
    "\n",
    "for i,ax in enumerate(axes.flat):\n",
    "    X_reshaped = X_test[i,].reshape((28, 28))\n",
    "    ax.imshow(X_reshaped, cmap='gray')\n",
    "    prediction = model.predict(X_test[i].reshape(1, 784))\n",
    "\n",
    "    if prediction >= 0.5:\n",
    "        yhat = 1\n",
    "    else:\n",
    "        yhat = 0\n",
    "        \n",
    "    ax.set_title(f\"{y_test[i,0]},{yhat}\")\n",
    "    ax.set_axis_off()\n",
    "    fig.suptitle(\"Label, yhat\", fontsize=16)\n",
    "plt.show()"
   ]
  }
 ],
 "metadata": {
  "kernelspec": {
   "display_name": "Python 3.10.7 ('env': venv)",
   "language": "python",
   "name": "python3"
  },
  "language_info": {
   "codemirror_mode": {
    "name": "ipython",
    "version": 3
   },
   "file_extension": ".py",
   "mimetype": "text/x-python",
   "name": "python",
   "nbconvert_exporter": "python",
   "pygments_lexer": "ipython3",
   "version": "3.10.7"
  },
  "orig_nbformat": 4,
  "vscode": {
   "interpreter": {
    "hash": "66d9c2a56919cb757690d730553a44c36b996dc79dd2aefbd61679e33dda01a4"
   }
  }
 },
 "nbformat": 4,
 "nbformat_minor": 2
}
